{
 "cells": [
  {
   "cell_type": "code",
   "execution_count": 1,
   "id": "91f1992c-a6ab-444b-a5e2-9ba2fccb51bc",
   "metadata": {},
   "outputs": [],
   "source": [
    "import pandas as pd"
   ]
  },
  {
   "cell_type": "code",
   "execution_count": 2,
   "id": "a8753b7c-6aaf-4b7a-9538-6689b3cf6fc2",
   "metadata": {},
   "outputs": [
    {
     "name": "stdout",
     "output_type": "stream",
     "text": [
      "Datacenter: datacenter1\n",
      "=======================\n",
      "Status=Up/Down\n",
      "|/ State=Normal/Leaving/Joining/Moving\n",
      "--  Address     Load       Tokens  Owns (effective)  Host ID                               Rack \n",
      "UN  172.28.0.2  70.27 KiB  16      69.3%             f55dd3a2-f0f3-4843-9ac5-93d0329db7b5  rack1\n",
      "UN  172.28.0.4  70.26 KiB  16      71.1%             d51e0c34-c932-41a1-a27f-36875e4a8357  rack1\n",
      "UN  172.28.0.3  70.25 KiB  16      59.6%             f11b72f5-eee5-4521-adb8-73993b49ac1e  rack1\n",
      "\n"
     ]
    }
   ],
   "source": [
    "!nodetool status"
   ]
  },
  {
   "cell_type": "markdown",
   "id": "117941aa-bfcb-4b65-a972-8857a56c3c8e",
   "metadata": {},
   "source": [
    "# Part 1"
   ]
  },
  {
   "cell_type": "code",
   "execution_count": 3,
   "id": "ae37ffc0-130b-4841-b430-a1e901fab2d1",
   "metadata": {},
   "outputs": [],
   "source": [
    "from cassandra.cluster import Cluster\n",
    "cluster = Cluster(['p6-db-1', 'p6-db-2', 'p6-db-3'])\n",
    "cass = cluster.connect()"
   ]
  },
  {
   "cell_type": "markdown",
   "id": "986c29d5-9fb3-4f07-b30c-b7f56df8ce6d",
   "metadata": {},
   "source": [
    "### drop a weather keyspace if already exists"
   ]
  },
  {
   "cell_type": "code",
   "execution_count": 4,
   "id": "e230310a-46a0-4a9e-9fbd-5556bdfe817b",
   "metadata": {},
   "outputs": [
    {
     "data": {
      "text/plain": [
       "<cassandra.cluster.ResultSet at 0x7fc8aedf0b80>"
      ]
     },
     "execution_count": 4,
     "metadata": {},
     "output_type": "execute_result"
    }
   ],
   "source": [
    "cass.execute(\"drop keyspace if exists weather\")"
   ]
  },
  {
   "cell_type": "markdown",
   "id": "27a555ec-15b1-47a2-8b8e-d8ccef0c3980",
   "metadata": {},
   "source": [
    "### create a weather keyspace with 3x replication"
   ]
  },
  {
   "cell_type": "code",
   "execution_count": 5,
   "id": "de825101-c748-42e4-bf83-07a3e5c8ef22",
   "metadata": {},
   "outputs": [
    {
     "data": {
      "text/plain": [
       "<cassandra.cluster.ResultSet at 0x7fc87c09c040>"
      ]
     },
     "execution_count": 5,
     "metadata": {},
     "output_type": "execute_result"
    }
   ],
   "source": [
    "cass.execute(\"create keyspace weather with replication = {'class':'SimpleStrategy', 'replication_factor':3}\")"
   ]
  },
  {
   "cell_type": "markdown",
   "id": "08c9f8a6-221c-4478-9dee-c7cc8e48fbc5",
   "metadata": {},
   "source": [
    "### inside weather, create a station_record type containing two ints: tmin and tmax"
   ]
  },
  {
   "cell_type": "code",
   "execution_count": 6,
   "id": "b7c2c093-2ddc-4e6e-99a6-afeae7452294",
   "metadata": {},
   "outputs": [
    {
     "data": {
      "text/plain": [
       "<cassandra.cluster.ResultSet at 0x7fc87c0627d0>"
      ]
     },
     "execution_count": 6,
     "metadata": {},
     "output_type": "execute_result"
    }
   ],
   "source": [
    "cass.execute(\"use weather\")"
   ]
  },
  {
   "cell_type": "code",
   "execution_count": 7,
   "id": "c760f75b-d617-4d51-af77-97b115307657",
   "metadata": {},
   "outputs": [
    {
     "data": {
      "text/plain": [
       "<cassandra.cluster.ResultSet at 0x7fc87c062ef0>"
      ]
     },
     "execution_count": 7,
     "metadata": {},
     "output_type": "execute_result"
    }
   ],
   "source": [
    "cass.execute(\"\"\"\n",
    "create type station_record(\n",
    "    tmin INT,\n",
    "    tmax INT\n",
    ")\n",
    "\"\"\")"
   ]
  },
  {
   "cell_type": "markdown",
   "id": "e3b88c95-dce8-49b3-9d57-ba1d91d0703c",
   "metadata": {},
   "source": [
    "### inside weather, create a stations table"
   ]
  },
  {
   "cell_type": "code",
   "execution_count": 8,
   "id": "71629dd2-4ea8-485e-b163-525982a1ed69",
   "metadata": {},
   "outputs": [
    {
     "data": {
      "text/plain": [
       "<cassandra.cluster.ResultSet at 0x7fc87d498d60>"
      ]
     },
     "execution_count": 8,
     "metadata": {},
     "output_type": "execute_result"
    }
   ],
   "source": [
    "cass.execute(\"drop table if exists stations\")"
   ]
  },
  {
   "cell_type": "code",
   "execution_count": 9,
   "id": "0a26bceb-33ed-4b43-aa31-eadae437a1d3",
   "metadata": {},
   "outputs": [
    {
     "data": {
      "text/plain": [
       "<cassandra.cluster.ResultSet at 0x7fc87c063be0>"
      ]
     },
     "execution_count": 9,
     "metadata": {},
     "output_type": "execute_result"
    }
   ],
   "source": [
    "# with help of chatbot: https://hf.co/chat/r/wMkXlBQ\n",
    "\n",
    "cass.execute(\"\"\"\n",
    "CREATE TABLE stations(\n",
    "    id TEXT,\n",
    "    name TEXT STATIC,\n",
    "    date date,\n",
    "    record weather.station_record,\n",
    "    PRIMARY KEY((id), date)\n",
    ") WITH CLUSTERING ORDER BY (date ASC)\n",
    "\"\"\")"
   ]
  },
  {
   "cell_type": "markdown",
   "id": "ab7ab57b-fb99-478b-a86f-164e7d7a2aff",
   "metadata": {},
   "source": [
    "## Q1: What is the Schema of stations?"
   ]
  },
  {
   "cell_type": "code",
   "execution_count": 10,
   "id": "464bf9b2-0c60-46fa-a986-92a5e7328e44",
   "metadata": {},
   "outputs": [
    {
     "data": {
      "text/plain": [
       "\"CREATE TABLE weather.stations (\\n    id text,\\n    date date,\\n    name text static,\\n    record station_record,\\n    PRIMARY KEY (id, date)\\n) WITH CLUSTERING ORDER BY (date ASC)\\n    AND additional_write_policy = '99p'\\n    AND bloom_filter_fp_chance = 0.01\\n    AND caching = {'keys': 'ALL', 'rows_per_partition': 'NONE'}\\n    AND cdc = false\\n    AND comment = ''\\n    AND compaction = {'class': 'org.apache.cassandra.db.compaction.SizeTieredCompactionStrategy', 'max_threshold': '32', 'min_threshold': '4'}\\n    AND compression = {'chunk_length_in_kb': '16', 'class': 'org.apache.cassandra.io.compress.LZ4Compressor'}\\n    AND memtable = 'default'\\n    AND crc_check_chance = 1.0\\n    AND default_time_to_live = 0\\n    AND extensions = {}\\n    AND gc_grace_seconds = 864000\\n    AND max_index_interval = 2048\\n    AND memtable_flush_period_in_ms = 0\\n    AND min_index_interval = 128\\n    AND read_repair = 'BLOCKING'\\n    AND speculative_retry = '99p';\""
      ]
     },
     "execution_count": 10,
     "metadata": {},
     "output_type": "execute_result"
    }
   ],
   "source": [
    "#q1\n",
    "pd.DataFrame(cass.execute(\"describe table weather.stations\"))['create_statement'][0]"
   ]
  },
  {
   "cell_type": "code",
   "execution_count": 11,
   "id": "8a1ff10a-454c-45b3-be06-84b8590bfd82",
   "metadata": {},
   "outputs": [
    {
     "name": "stdout",
     "output_type": "stream",
     "text": [
      ":: loading settings :: url = jar:file:/usr/local/lib/python3.10/dist-packages/pyspark/jars/ivy-2.5.1.jar!/org/apache/ivy/core/settings/ivysettings.xml\n"
     ]
    },
    {
     "name": "stderr",
     "output_type": "stream",
     "text": [
      "Ivy Default Cache set to: /root/.ivy2/cache\n",
      "The jars for the packages stored in: /root/.ivy2/jars\n",
      "com.datastax.spark#spark-cassandra-connector_2.12 added as a dependency\n",
      ":: resolving dependencies :: org.apache.spark#spark-submit-parent-4c9b4a6d-aa81-44fa-9176-36e63b5e97cc;1.0\n",
      "\tconfs: [default]\n",
      "\tfound com.datastax.spark#spark-cassandra-connector_2.12;3.4.0 in central\n",
      "\tfound com.datastax.spark#spark-cassandra-connector-driver_2.12;3.4.0 in central\n",
      "\tfound com.datastax.oss#java-driver-core-shaded;4.13.0 in central\n",
      "\tfound com.datastax.oss#native-protocol;1.5.0 in central\n",
      "\tfound com.datastax.oss#java-driver-shaded-guava;25.1-jre-graal-sub-1 in central\n",
      "\tfound com.typesafe#config;1.4.1 in central\n",
      "\tfound org.slf4j#slf4j-api;1.7.26 in central\n",
      "\tfound io.dropwizard.metrics#metrics-core;4.1.18 in central\n",
      "\tfound org.hdrhistogram#HdrHistogram;2.1.12 in central\n",
      "\tfound org.reactivestreams#reactive-streams;1.0.3 in central\n",
      "\tfound com.github.stephenc.jcip#jcip-annotations;1.0-1 in central\n",
      "\tfound com.github.spotbugs#spotbugs-annotations;3.1.12 in central\n",
      "\tfound com.google.code.findbugs#jsr305;3.0.2 in central\n",
      "\tfound com.datastax.oss#java-driver-mapper-runtime;4.13.0 in central\n",
      "\tfound com.datastax.oss#java-driver-query-builder;4.13.0 in central\n",
      "\tfound org.apache.commons#commons-lang3;3.10 in central\n",
      "\tfound com.thoughtworks.paranamer#paranamer;2.8 in central\n",
      "\tfound org.scala-lang#scala-reflect;2.12.11 in central\n",
      "downloading https://repo1.maven.org/maven2/com/datastax/spark/spark-cassandra-connector_2.12/3.4.0/spark-cassandra-connector_2.12-3.4.0.jar ...\n",
      "\t[SUCCESSFUL ] com.datastax.spark#spark-cassandra-connector_2.12;3.4.0!spark-cassandra-connector_2.12.jar (218ms)\n",
      "downloading https://repo1.maven.org/maven2/com/datastax/spark/spark-cassandra-connector-driver_2.12/3.4.0/spark-cassandra-connector-driver_2.12-3.4.0.jar ...\n",
      "\t[SUCCESSFUL ] com.datastax.spark#spark-cassandra-connector-driver_2.12;3.4.0!spark-cassandra-connector-driver_2.12.jar (102ms)\n",
      "downloading https://repo1.maven.org/maven2/com/datastax/oss/java-driver-core-shaded/4.13.0/java-driver-core-shaded-4.13.0.jar ...\n",
      "\t[SUCCESSFUL ] com.datastax.oss#java-driver-core-shaded;4.13.0!java-driver-core-shaded.jar (426ms)\n",
      "downloading https://repo1.maven.org/maven2/com/datastax/oss/java-driver-mapper-runtime/4.13.0/java-driver-mapper-runtime-4.13.0.jar ...\n",
      "\t[SUCCESSFUL ] com.datastax.oss#java-driver-mapper-runtime;4.13.0!java-driver-mapper-runtime.jar(bundle) (30ms)\n",
      "downloading https://repo1.maven.org/maven2/org/apache/commons/commons-lang3/3.10/commons-lang3-3.10.jar ...\n",
      "\t[SUCCESSFUL ] org.apache.commons#commons-lang3;3.10!commons-lang3.jar (48ms)\n",
      "downloading https://repo1.maven.org/maven2/com/thoughtworks/paranamer/paranamer/2.8/paranamer-2.8.jar ...\n",
      "\t[SUCCESSFUL ] com.thoughtworks.paranamer#paranamer;2.8!paranamer.jar(bundle) (27ms)\n",
      "downloading https://repo1.maven.org/maven2/org/scala-lang/scala-reflect/2.12.11/scala-reflect-2.12.11.jar ...\n",
      "\t[SUCCESSFUL ] org.scala-lang#scala-reflect;2.12.11!scala-reflect.jar (145ms)\n",
      "downloading https://repo1.maven.org/maven2/com/datastax/oss/native-protocol/1.5.0/native-protocol-1.5.0.jar ...\n",
      "\t[SUCCESSFUL ] com.datastax.oss#native-protocol;1.5.0!native-protocol.jar(bundle) (38ms)\n",
      "downloading https://repo1.maven.org/maven2/com/datastax/oss/java-driver-shaded-guava/25.1-jre-graal-sub-1/java-driver-shaded-guava-25.1-jre-graal-sub-1.jar ...\n",
      "\t[SUCCESSFUL ] com.datastax.oss#java-driver-shaded-guava;25.1-jre-graal-sub-1!java-driver-shaded-guava.jar (102ms)\n",
      "downloading https://repo1.maven.org/maven2/com/typesafe/config/1.4.1/config-1.4.1.jar ...\n",
      "\t[SUCCESSFUL ] com.typesafe#config;1.4.1!config.jar(bundle) (29ms)\n",
      "downloading https://repo1.maven.org/maven2/org/slf4j/slf4j-api/1.7.26/slf4j-api-1.7.26.jar ...\n",
      "\t[SUCCESSFUL ] org.slf4j#slf4j-api;1.7.26!slf4j-api.jar (29ms)\n",
      "downloading https://repo1.maven.org/maven2/io/dropwizard/metrics/metrics-core/4.1.18/metrics-core-4.1.18.jar ...\n",
      "\t[SUCCESSFUL ] io.dropwizard.metrics#metrics-core;4.1.18!metrics-core.jar(bundle) (30ms)\n",
      "downloading https://repo1.maven.org/maven2/org/hdrhistogram/HdrHistogram/2.1.12/HdrHistogram-2.1.12.jar ...\n",
      "\t[SUCCESSFUL ] org.hdrhistogram#HdrHistogram;2.1.12!HdrHistogram.jar(bundle) (32ms)\n",
      "downloading https://repo1.maven.org/maven2/org/reactivestreams/reactive-streams/1.0.3/reactive-streams-1.0.3.jar ...\n",
      "\t[SUCCESSFUL ] org.reactivestreams#reactive-streams;1.0.3!reactive-streams.jar (27ms)\n",
      "downloading https://repo1.maven.org/maven2/com/github/stephenc/jcip/jcip-annotations/1.0-1/jcip-annotations-1.0-1.jar ...\n",
      "\t[SUCCESSFUL ] com.github.stephenc.jcip#jcip-annotations;1.0-1!jcip-annotations.jar (29ms)\n",
      "downloading https://repo1.maven.org/maven2/com/github/spotbugs/spotbugs-annotations/3.1.12/spotbugs-annotations-3.1.12.jar ...\n",
      "\t[SUCCESSFUL ] com.github.spotbugs#spotbugs-annotations;3.1.12!spotbugs-annotations.jar (28ms)\n",
      "downloading https://repo1.maven.org/maven2/com/google/code/findbugs/jsr305/3.0.2/jsr305-3.0.2.jar ...\n",
      "\t[SUCCESSFUL ] com.google.code.findbugs#jsr305;3.0.2!jsr305.jar (27ms)\n",
      "downloading https://repo1.maven.org/maven2/com/datastax/oss/java-driver-query-builder/4.13.0/java-driver-query-builder-4.13.0.jar ...\n",
      "\t[SUCCESSFUL ] com.datastax.oss#java-driver-query-builder;4.13.0!java-driver-query-builder.jar(bundle) (32ms)\n",
      ":: resolution report :: resolve 3641ms :: artifacts dl 1433ms\n",
      "\t:: modules in use:\n",
      "\tcom.datastax.oss#java-driver-core-shaded;4.13.0 from central in [default]\n",
      "\tcom.datastax.oss#java-driver-mapper-runtime;4.13.0 from central in [default]\n",
      "\tcom.datastax.oss#java-driver-query-builder;4.13.0 from central in [default]\n",
      "\tcom.datastax.oss#java-driver-shaded-guava;25.1-jre-graal-sub-1 from central in [default]\n",
      "\tcom.datastax.oss#native-protocol;1.5.0 from central in [default]\n",
      "\tcom.datastax.spark#spark-cassandra-connector-driver_2.12;3.4.0 from central in [default]\n",
      "\tcom.datastax.spark#spark-cassandra-connector_2.12;3.4.0 from central in [default]\n",
      "\tcom.github.spotbugs#spotbugs-annotations;3.1.12 from central in [default]\n",
      "\tcom.github.stephenc.jcip#jcip-annotations;1.0-1 from central in [default]\n",
      "\tcom.google.code.findbugs#jsr305;3.0.2 from central in [default]\n",
      "\tcom.thoughtworks.paranamer#paranamer;2.8 from central in [default]\n",
      "\tcom.typesafe#config;1.4.1 from central in [default]\n",
      "\tio.dropwizard.metrics#metrics-core;4.1.18 from central in [default]\n",
      "\torg.apache.commons#commons-lang3;3.10 from central in [default]\n",
      "\torg.hdrhistogram#HdrHistogram;2.1.12 from central in [default]\n",
      "\torg.reactivestreams#reactive-streams;1.0.3 from central in [default]\n",
      "\torg.scala-lang#scala-reflect;2.12.11 from central in [default]\n",
      "\torg.slf4j#slf4j-api;1.7.26 from central in [default]\n",
      "\t---------------------------------------------------------------------\n",
      "\t|                  |            modules            ||   artifacts   |\n",
      "\t|       conf       | number| search|dwnlded|evicted|| number|dwnlded|\n",
      "\t---------------------------------------------------------------------\n",
      "\t|      default     |   18  |   18  |   18  |   0   ||   18  |   18  |\n",
      "\t---------------------------------------------------------------------\n",
      ":: retrieving :: org.apache.spark#spark-submit-parent-4c9b4a6d-aa81-44fa-9176-36e63b5e97cc\n",
      "\tconfs: [default]\n",
      "\t18 artifacts copied, 0 already retrieved (18067kB/70ms)\n",
      "23/11/21 18:06:24 WARN NativeCodeLoader: Unable to load native-hadoop library for your platform... using builtin-java classes where applicable\n",
      "Setting default log level to \"WARN\".\n",
      "To adjust logging level use sc.setLogLevel(newLevel). For SparkR, use setLogLevel(newLevel).\n"
     ]
    }
   ],
   "source": [
    "from pyspark.sql import SparkSession\n",
    "spark = (SparkSession.builder\n",
    "         .appName(\"p6\")\n",
    "         .config('spark.jars.packages', 'com.datastax.spark:spark-cassandra-connector_2.12:3.4.0')\n",
    "         .config(\"spark.sql.extensions\", \"com.datastax.spark.connector.CassandraSparkExtensions\")\n",
    "         .getOrCreate())"
   ]
  },
  {
   "cell_type": "code",
   "execution_count": 12,
   "id": "3d06a337-1d12-4e7d-b93c-f0a0a2b12ddc",
   "metadata": {},
   "outputs": [],
   "source": [
    "df = spark.read.text(\"ghcnd-stations.txt\")"
   ]
  },
  {
   "cell_type": "code",
   "execution_count": 13,
   "id": "18550f49-6ced-44c0-b5c6-c1f57d748895",
   "metadata": {},
   "outputs": [
    {
     "data": {
      "text/plain": [
       "'\\n------------------------------\\nVariable   Columns   Type\\n------------------------------\\nID            1-11   Character\\nLATITUDE     13-20   Real\\nLONGITUDE    22-30   Real\\nELEVATION    32-37   Real\\nSTATE        39-40   Character\\nNAME         42-71   Character\\nGSN FLAG     73-75   Character\\nHCN/CRN FLAG 77-79   Character\\nWMO ID       81-85   Character\\n------------------------------\\n'"
      ]
     },
     "execution_count": 13,
     "metadata": {},
     "output_type": "execute_result"
    }
   ],
   "source": [
    "'''\n",
    "------------------------------\n",
    "Variable   Columns   Type\n",
    "------------------------------\n",
    "ID            1-11   Character\n",
    "LATITUDE     13-20   Real\n",
    "LONGITUDE    22-30   Real\n",
    "ELEVATION    32-37   Real\n",
    "STATE        39-40   Character\n",
    "NAME         42-71   Character\n",
    "GSN FLAG     73-75   Character\n",
    "HCN/CRN FLAG 77-79   Character\n",
    "WMO ID       81-85   Character\n",
    "------------------------------\n",
    "'''"
   ]
  },
  {
   "cell_type": "code",
   "execution_count": 14,
   "id": "5e840050-2e31-4d37-a343-66ace7979c9a",
   "metadata": {},
   "outputs": [
    {
     "name": "stderr",
     "output_type": "stream",
     "text": [
      "                                                                                \r"
     ]
    },
    {
     "data": {
      "text/html": [
       "<div>\n",
       "<style scoped>\n",
       "    .dataframe tbody tr th:only-of-type {\n",
       "        vertical-align: middle;\n",
       "    }\n",
       "\n",
       "    .dataframe tbody tr th {\n",
       "        vertical-align: top;\n",
       "    }\n",
       "\n",
       "    .dataframe thead th {\n",
       "        text-align: right;\n",
       "    }\n",
       "</style>\n",
       "<table border=\"1\" class=\"dataframe\">\n",
       "  <thead>\n",
       "    <tr style=\"text-align: right;\">\n",
       "      <th></th>\n",
       "      <th>value</th>\n",
       "    </tr>\n",
       "  </thead>\n",
       "  <tbody>\n",
       "    <tr>\n",
       "      <th>0</th>\n",
       "      <td>ACW00011604  17.1167  -61.7833   10.1    ST JO...</td>\n",
       "    </tr>\n",
       "    <tr>\n",
       "      <th>1</th>\n",
       "      <td>ACW00011647  17.1333  -61.7833   19.2    ST JO...</td>\n",
       "    </tr>\n",
       "    <tr>\n",
       "      <th>2</th>\n",
       "      <td>AE000041196  25.3330   55.5170   34.0    SHARJ...</td>\n",
       "    </tr>\n",
       "  </tbody>\n",
       "</table>\n",
       "</div>"
      ],
      "text/plain": [
       "                                               value\n",
       "0  ACW00011604  17.1167  -61.7833   10.1    ST JO...\n",
       "1  ACW00011647  17.1333  -61.7833   19.2    ST JO...\n",
       "2  AE000041196  25.3330   55.5170   34.0    SHARJ..."
      ]
     },
     "execution_count": 14,
     "metadata": {},
     "output_type": "execute_result"
    }
   ],
   "source": [
    "df.limit(3).toPandas()"
   ]
  },
  {
   "cell_type": "code",
   "execution_count": 15,
   "id": "505729cb-4a15-4d52-9571-1f3a51d753de",
   "metadata": {},
   "outputs": [],
   "source": [
    "# with help of chatbot: https://hf.co/chat/r/2wOv6kw\n",
    "\n",
    "from pyspark.sql.functions import col, expr\n",
    "\n",
    "df2 = df.withColumn(\"ID\", expr(\"substring(value, 0, 11)\"))\n",
    "df2 = df2.withColumn(\"state\", expr(\"substring(value, 39, 2)\"))\n",
    "df2 = df2.withColumn(\"name\", expr(\"substring(value, 42, 30)\"))"
   ]
  },
  {
   "cell_type": "code",
   "execution_count": 16,
   "id": "19e2071f-3a00-4eac-ab14-d45902505c71",
   "metadata": {},
   "outputs": [
    {
     "data": {
      "text/html": [
       "<div>\n",
       "<style scoped>\n",
       "    .dataframe tbody tr th:only-of-type {\n",
       "        vertical-align: middle;\n",
       "    }\n",
       "\n",
       "    .dataframe tbody tr th {\n",
       "        vertical-align: top;\n",
       "    }\n",
       "\n",
       "    .dataframe thead th {\n",
       "        text-align: right;\n",
       "    }\n",
       "</style>\n",
       "<table border=\"1\" class=\"dataframe\">\n",
       "  <thead>\n",
       "    <tr style=\"text-align: right;\">\n",
       "      <th></th>\n",
       "      <th>value</th>\n",
       "      <th>ID</th>\n",
       "      <th>state</th>\n",
       "      <th>name</th>\n",
       "    </tr>\n",
       "  </thead>\n",
       "  <tbody>\n",
       "    <tr>\n",
       "      <th>0</th>\n",
       "      <td>ACW00011604  17.1167  -61.7833   10.1    ST JO...</td>\n",
       "      <td>ACW00011604</td>\n",
       "      <td></td>\n",
       "      <td>ST JOHNS COOLIDGE FLD</td>\n",
       "    </tr>\n",
       "    <tr>\n",
       "      <th>1</th>\n",
       "      <td>ACW00011647  17.1333  -61.7833   19.2    ST JO...</td>\n",
       "      <td>ACW00011647</td>\n",
       "      <td></td>\n",
       "      <td>ST JOHNS</td>\n",
       "    </tr>\n",
       "    <tr>\n",
       "      <th>2</th>\n",
       "      <td>AE000041196  25.3330   55.5170   34.0    SHARJ...</td>\n",
       "      <td>AE000041196</td>\n",
       "      <td></td>\n",
       "      <td>SHARJAH INTER. AIRP</td>\n",
       "    </tr>\n",
       "    <tr>\n",
       "      <th>3</th>\n",
       "      <td>AEM00041194  25.2550   55.3640   10.4    DUBAI...</td>\n",
       "      <td>AEM00041194</td>\n",
       "      <td></td>\n",
       "      <td>DUBAI INTL</td>\n",
       "    </tr>\n",
       "    <tr>\n",
       "      <th>4</th>\n",
       "      <td>AEM00041217  24.4330   54.6510   26.8    ABU D...</td>\n",
       "      <td>AEM00041217</td>\n",
       "      <td></td>\n",
       "      <td>ABU DHABI INTL</td>\n",
       "    </tr>\n",
       "  </tbody>\n",
       "</table>\n",
       "</div>"
      ],
      "text/plain": [
       "                                               value           ID state  \\\n",
       "0  ACW00011604  17.1167  -61.7833   10.1    ST JO...  ACW00011604         \n",
       "1  ACW00011647  17.1333  -61.7833   19.2    ST JO...  ACW00011647         \n",
       "2  AE000041196  25.3330   55.5170   34.0    SHARJ...  AE000041196         \n",
       "3  AEM00041194  25.2550   55.3640   10.4    DUBAI...  AEM00041194         \n",
       "4  AEM00041217  24.4330   54.6510   26.8    ABU D...  AEM00041217         \n",
       "\n",
       "                             name  \n",
       "0  ST JOHNS COOLIDGE FLD           \n",
       "1  ST JOHNS                        \n",
       "2  SHARJAH INTER. AIRP             \n",
       "3  DUBAI INTL                      \n",
       "4  ABU DHABI INTL                  "
      ]
     },
     "execution_count": 16,
     "metadata": {},
     "output_type": "execute_result"
    }
   ],
   "source": [
    "df2.limit(5).toPandas()"
   ]
  },
  {
   "cell_type": "code",
   "execution_count": 24,
   "id": "87f635dc-1294-495e-b806-6bf848d1322a",
   "metadata": {},
   "outputs": [],
   "source": [
    "# spark.sql(\"DROP TABLE IF EXISTS weather.wi_table3\")"
   ]
  },
  {
   "cell_type": "code",
   "execution_count": 25,
   "id": "140cfe81-4fc2-4b80-9de7-842584da394a",
   "metadata": {},
   "outputs": [],
   "source": [
    "# df2.write.saveAsTable(\"wi_table3\", mode=\"overwrite\")\n",
    "# wipd = spark.sql(\"SELECT ID, state, name FROM wi_table3 WHERE LOWER(state) = 'wi'\").toPandas()\n",
    "# wipd.head()"
   ]
  },
  {
   "cell_type": "code",
   "execution_count": 26,
   "id": "487fd9ee-f0d6-4dff-b956-016876dc9db3",
   "metadata": {},
   "outputs": [],
   "source": [
    "# spark.sql(\"SHOW TABLES\").show()"
   ]
  },
  {
   "cell_type": "code",
   "execution_count": 27,
   "id": "11387b74-ef39-4cee-9036-13484ff7004d",
   "metadata": {},
   "outputs": [],
   "source": [
    "# len(wipd['ID'])"
   ]
  },
  {
   "cell_type": "code",
   "execution_count": 30,
   "id": "c56d09b5-453a-4ec9-8f08-f86cad45ee10",
   "metadata": {},
   "outputs": [
    {
     "data": {
      "text/html": [
       "<div>\n",
       "<style scoped>\n",
       "    .dataframe tbody tr th:only-of-type {\n",
       "        vertical-align: middle;\n",
       "    }\n",
       "\n",
       "    .dataframe tbody tr th {\n",
       "        vertical-align: top;\n",
       "    }\n",
       "\n",
       "    .dataframe thead th {\n",
       "        text-align: right;\n",
       "    }\n",
       "</style>\n",
       "<table border=\"1\" class=\"dataframe\">\n",
       "  <thead>\n",
       "    <tr style=\"text-align: right;\">\n",
       "      <th></th>\n",
       "      <th>value</th>\n",
       "      <th>ID</th>\n",
       "      <th>state</th>\n",
       "      <th>name</th>\n",
       "    </tr>\n",
       "  </thead>\n",
       "  <tbody>\n",
       "    <tr>\n",
       "      <th>0</th>\n",
       "      <td>US1WIAD0002  43.9544  -89.8096  294.4 WI ADAMS...</td>\n",
       "      <td>US1WIAD0002</td>\n",
       "      <td>WI</td>\n",
       "      <td>ADAMS 0.4 E</td>\n",
       "    </tr>\n",
       "    <tr>\n",
       "      <th>1</th>\n",
       "      <td>US1WIAD0005  44.2053  -89.8480  305.7 WI NEKOO...</td>\n",
       "      <td>US1WIAD0005</td>\n",
       "      <td>WI</td>\n",
       "      <td>NEKOOSA 8.0 SSE</td>\n",
       "    </tr>\n",
       "    <tr>\n",
       "      <th>2</th>\n",
       "      <td>US1WIAD0006  43.8858  -89.7259  307.8 WI GRAND...</td>\n",
       "      <td>US1WIAD0006</td>\n",
       "      <td>WI</td>\n",
       "      <td>GRAND MARSH 1.0 W</td>\n",
       "    </tr>\n",
       "    <tr>\n",
       "      <th>3</th>\n",
       "      <td>US1WIAD0008  43.8611  -89.7163  310.0 WI GRAND...</td>\n",
       "      <td>US1WIAD0008</td>\n",
       "      <td>WI</td>\n",
       "      <td>GRAND MARSH 1.9 SSW</td>\n",
       "    </tr>\n",
       "    <tr>\n",
       "      <th>4</th>\n",
       "      <td>US1WIAD0010  43.7864  -89.6417  293.8 WI OXFOR...</td>\n",
       "      <td>US1WIAD0010</td>\n",
       "      <td>WI</td>\n",
       "      <td>OXFORD 4.0 W</td>\n",
       "    </tr>\n",
       "    <tr>\n",
       "      <th>...</th>\n",
       "      <td>...</td>\n",
       "      <td>...</td>\n",
       "      <td>...</td>\n",
       "      <td>...</td>\n",
       "    </tr>\n",
       "    <tr>\n",
       "      <th>1308</th>\n",
       "      <td>USW00094930  43.9333  -90.2667  280.1 WI VOLK ...</td>\n",
       "      <td>USW00094930</td>\n",
       "      <td>WI</td>\n",
       "      <td>VOLK FLD ANG</td>\n",
       "    </tr>\n",
       "    <tr>\n",
       "      <th>1309</th>\n",
       "      <td>USW00094940  43.9667  -90.7333  252.7 WI SPART...</td>\n",
       "      <td>USW00094940</td>\n",
       "      <td>WI</td>\n",
       "      <td>SPARTA FT MCCOY</td>\n",
       "    </tr>\n",
       "    <tr>\n",
       "      <th>1310</th>\n",
       "      <td>USW00094973  46.0303  -91.4425  368.8 WI HAYWA...</td>\n",
       "      <td>USW00094973</td>\n",
       "      <td>WI</td>\n",
       "      <td>HAYWARD MUNI AP</td>\n",
       "    </tr>\n",
       "    <tr>\n",
       "      <th>1311</th>\n",
       "      <td>USW00094985  44.6378  -90.1875  381.6 WI MARSH...</td>\n",
       "      <td>USW00094985</td>\n",
       "      <td>WI</td>\n",
       "      <td>MARSHFIELD MUNI AP</td>\n",
       "    </tr>\n",
       "    <tr>\n",
       "      <th>1312</th>\n",
       "      <td>USW00094994  43.1561  -90.6775  203.0 WI BOSCO...</td>\n",
       "      <td>USW00094994</td>\n",
       "      <td>WI</td>\n",
       "      <td>BOSCOBEL AP</td>\n",
       "    </tr>\n",
       "  </tbody>\n",
       "</table>\n",
       "<p>1313 rows × 4 columns</p>\n",
       "</div>"
      ],
      "text/plain": [
       "                                                  value           ID state  \\\n",
       "0     US1WIAD0002  43.9544  -89.8096  294.4 WI ADAMS...  US1WIAD0002    WI   \n",
       "1     US1WIAD0005  44.2053  -89.8480  305.7 WI NEKOO...  US1WIAD0005    WI   \n",
       "2     US1WIAD0006  43.8858  -89.7259  307.8 WI GRAND...  US1WIAD0006    WI   \n",
       "3     US1WIAD0008  43.8611  -89.7163  310.0 WI GRAND...  US1WIAD0008    WI   \n",
       "4     US1WIAD0010  43.7864  -89.6417  293.8 WI OXFOR...  US1WIAD0010    WI   \n",
       "...                                                 ...          ...   ...   \n",
       "1308  USW00094930  43.9333  -90.2667  280.1 WI VOLK ...  USW00094930    WI   \n",
       "1309  USW00094940  43.9667  -90.7333  252.7 WI SPART...  USW00094940    WI   \n",
       "1310  USW00094973  46.0303  -91.4425  368.8 WI HAYWA...  USW00094973    WI   \n",
       "1311  USW00094985  44.6378  -90.1875  381.6 WI MARSH...  USW00094985    WI   \n",
       "1312  USW00094994  43.1561  -90.6775  203.0 WI BOSCO...  USW00094994    WI   \n",
       "\n",
       "                                name  \n",
       "0     ADAMS 0.4 E                     \n",
       "1     NEKOOSA 8.0 SSE                 \n",
       "2     GRAND MARSH 1.0 W               \n",
       "3     GRAND MARSH 1.9 SSW             \n",
       "4     OXFORD 4.0 W                    \n",
       "...                              ...  \n",
       "1308  VOLK FLD ANG                    \n",
       "1309  SPARTA FT MCCOY                 \n",
       "1310  HAYWARD MUNI AP                 \n",
       "1311  MARSHFIELD MUNI AP              \n",
       "1312  BOSCOBEL AP                     \n",
       "\n",
       "[1313 rows x 4 columns]"
      ]
     },
     "execution_count": 30,
     "metadata": {},
     "output_type": "execute_result"
    }
   ],
   "source": [
    "wipd = df2.filter(df2.state == \"WI\").toPandas()\n",
    "wipd"
   ]
  },
  {
   "cell_type": "code",
   "execution_count": 31,
   "id": "71dda45c-b777-47ac-a2ac-443ba3324ad0",
   "metadata": {},
   "outputs": [],
   "source": [
    "for i in range(len(wipd['ID'])):\n",
    "    curr_id = wipd['ID'][i]\n",
    "    curr_name = wipd['name'][i]\n",
    "    curr_name = curr_name.replace(\"\\'\", \"\")\n",
    "    query = f\"INSERT INTO stations (id, name) VALUES ('{curr_id}', '{curr_name}')\"\n",
    "    cass.execute(query)"
   ]
  },
  {
   "cell_type": "code",
   "execution_count": 32,
   "id": "adfefea9-eb6e-463c-8609-5b05101e31f8",
   "metadata": {},
   "outputs": [
    {
     "data": {
      "text/plain": [
       "'MADISON DANE CO RGNL AP       '"
      ]
     },
     "execution_count": 32,
     "metadata": {},
     "output_type": "execute_result"
    }
   ],
   "source": [
    "#q2\n",
    "pd.DataFrame(cass.execute(\"select name from stations where id = 'USW00014837'\"))['name'][0]"
   ]
  },
  {
   "cell_type": "code",
   "execution_count": 33,
   "id": "0cbd9a3a-df03-4611-8cc0-9dd0506abb41",
   "metadata": {},
   "outputs": [
    {
     "data": {
      "text/plain": [
       "-9014250178872933741"
      ]
     },
     "execution_count": 33,
     "metadata": {},
     "output_type": "execute_result"
    }
   ],
   "source": [
    "#q3\n",
    "u_token = pd.DataFrame(cass.execute(\"select token(id) from stations where id = 'USC00470273'\"))['system_token_id'][0]\n",
    "u_token"
   ]
  },
  {
   "cell_type": "code",
   "execution_count": 34,
   "id": "e3b9f3a0-9482-4074-a0ca-696bb381b513",
   "metadata": {},
   "outputs": [
    {
     "data": {
      "text/plain": [
       "'\\nDraft:\\nlines = s.splitlines()\\ninside = False\\nfor i in range(6, (len(lines)-6)):\\n    info = lines[i].split(\"             \")\\n    curr_token = int(info[1])\\n    if curr_token > 8886149105717214077:\\n        inside = True\\n        print(curr_token)\\n        break\\nif not inside:\\n    info = lines[6].split(\"             \")\\n    print(info[1])\\n'"
      ]
     },
     "execution_count": 34,
     "metadata": {},
     "output_type": "execute_result"
    }
   ],
   "source": [
    "'''\n",
    "Draft:\n",
    "lines = s.splitlines()\n",
    "inside = False\n",
    "for i in range(6, (len(lines)-6)):\n",
    "    info = lines[i].split(\"             \")\n",
    "    curr_token = int(info[1])\n",
    "    if curr_token > 8886149105717214077:\n",
    "        inside = True\n",
    "        print(curr_token)\n",
    "        break\n",
    "if not inside:\n",
    "    info = lines[6].split(\"             \")\n",
    "    print(info[1])\n",
    "'''"
   ]
  },
  {
   "cell_type": "code",
   "execution_count": 35,
   "id": "9c830b2b-ed60-4fdf-869c-8d943435ddf4",
   "metadata": {},
   "outputs": [
    {
     "name": "stderr",
     "output_type": "stream",
     "text": [
      "/bin/sh: 1: docker: not found\n"
     ]
    },
    {
     "data": {
      "text/plain": [
       "['',\n",
       " 'Datacenter: datacenter1',\n",
       " '==========',\n",
       " 'Address          Rack        Status State   Load            Owns                Token                                       ',\n",
       " '                                                                                8888436893293965475                         ',\n",
       " '172.28.0.4       rack1       Up     Normal  87.74 KiB       100.00%             -8976761085217265198                        ',\n",
       " '172.28.0.2       rack1       Up     Normal  87.75 KiB       100.00%             -8740635247803235345                        ',\n",
       " '172.28.0.3       rack1       Up     Normal  87.73 KiB       100.00%             -8423175724535584051                        ',\n",
       " '172.28.0.4       rack1       Up     Normal  87.74 KiB       100.00%             -7905260468877232385                        ',\n",
       " '172.28.0.2       rack1       Up     Normal  87.75 KiB       100.00%             -7664879366577655805                        ',\n",
       " '172.28.0.3       rack1       Up     Normal  87.73 KiB       100.00%             -7455811481457048552                        ',\n",
       " '172.28.0.2       rack1       Up     Normal  87.75 KiB       100.00%             -6928963673866762164                        ',\n",
       " '172.28.0.4       rack1       Up     Normal  87.74 KiB       100.00%             -6887409064134805369                        ',\n",
       " '172.28.0.4       rack1       Up     Normal  87.74 KiB       100.00%             -6069737131522454575                        ',\n",
       " '172.28.0.3       rack1       Up     Normal  87.73 KiB       100.00%             -5865806928943149914                        ',\n",
       " '172.28.0.2       rack1       Up     Normal  87.75 KiB       100.00%             -5849590866419160507                        ',\n",
       " '172.28.0.4       rack1       Up     Normal  87.74 KiB       100.00%             -4993981250296875035                        ',\n",
       " '172.28.0.2       rack1       Up     Normal  87.75 KiB       100.00%             -4606070860738568533                        ',\n",
       " '172.28.0.4       rack1       Up     Normal  87.74 KiB       100.00%             -4258065557585981394                        ',\n",
       " '172.28.0.3       rack1       Up     Normal  87.73 KiB       100.00%             -4246783633246106616                        ',\n",
       " '172.28.0.2       rack1       Up     Normal  87.75 KiB       100.00%             -3638706617660033035                        ',\n",
       " '172.28.0.3       rack1       Up     Normal  87.73 KiB       100.00%             -3268638180729992541                        ',\n",
       " '172.28.0.4       rack1       Up     Normal  87.74 KiB       100.00%             -3178692750138379737                        ',\n",
       " '172.28.0.2       rack1       Up     Normal  87.75 KiB       100.00%             -2048702065146134397                        ',\n",
       " '172.28.0.4       rack1       Up     Normal  87.74 KiB       100.00%             -1935172744457787763                        ',\n",
       " '172.28.0.3       rack1       Up     Normal  87.73 KiB       100.00%             -1490003879906405412                        ',\n",
       " '172.28.0.4       rack1       Up     Normal  87.74 KiB       100.00%             -967808501379252265                         ',\n",
       " '172.28.0.2       rack1       Up     Normal  87.75 KiB       100.00%             -429678769449091100                         ',\n",
       " '172.28.0.3       rack1       Up     Normal  87.73 KiB       100.00%             -393961979671467123                         ',\n",
       " '172.28.0.2       rack1       Up     Normal  87.75 KiB       100.00%             548466683067022975                          ',\n",
       " '172.28.0.4       rack1       Up     Normal  87.74 KiB       100.00%             622196051134646372                          ',\n",
       " '172.28.0.3       rack1       Up     Normal  87.73 KiB       100.00%             697335131020745136                          ',\n",
       " '172.28.0.3       rack1       Up     Normal  87.73 KiB       100.00%             1541711778511906893                         ',\n",
       " '172.28.0.4       rack1       Up     Normal  87.74 KiB       100.00%             2241219346831689669                         ',\n",
       " '172.28.0.2       rack1       Up     Normal  87.75 KiB       100.00%             2327100983890610103                         ',\n",
       " '172.28.0.3       rack1       Up     Normal  87.73 KiB       100.00%             2981980008414490131                         ',\n",
       " '172.28.0.4       rack1       Up     Normal  87.74 KiB       100.00%             3219364799347803745                         ',\n",
       " '172.28.0.2       rack1       Up     Normal  87.75 KiB       100.00%             3423142884125548392                         ',\n",
       " '172.28.0.3       rack1       Up     Normal  87.73 KiB       100.00%             4053480624754522944                         ',\n",
       " '172.28.0.2       rack1       Up     Normal  87.75 KiB       100.00%             4514439994817760651                         ',\n",
       " '172.28.0.4       rack1       Up     Normal  87.74 KiB       100.00%             4997999100171390873                         ',\n",
       " '172.28.0.3       rack1       Up     Normal  87.73 KiB       100.00%             5071332029496949959                         ',\n",
       " '172.28.0.2       rack1       Up     Normal  87.75 KiB       100.00%             5358816642308922409                         ',\n",
       " '172.28.0.3       rack1       Up     Normal  87.73 KiB       100.00%             5889003962109300754                         ',\n",
       " '172.28.0.4       rack1       Up     Normal  87.74 KiB       100.00%             6094041000406329162                         ',\n",
       " '172.28.0.2       rack1       Up     Normal  87.75 KiB       100.00%             6799084872211505647                         ',\n",
       " '172.28.0.3       rack1       Up     Normal  87.73 KiB       100.00%             6964759843334880293                         ',\n",
       " '172.28.0.4       rack1       Up     Normal  87.74 KiB       100.00%             7185338111098541421                         ',\n",
       " '172.28.0.3       rack1       Up     Normal  87.73 KiB       100.00%             7700675536045773934                         ',\n",
       " '172.28.0.2       rack1       Up     Normal  87.75 KiB       100.00%             7870585488551538460                         ',\n",
       " '172.28.0.4       rack1       Up     Normal  87.74 KiB       100.00%             8029714758589703179                         ',\n",
       " '172.28.0.3       rack1       Up     Normal  87.73 KiB       100.00%             8780048343493375592                         ',\n",
       " '172.28.0.2       rack1       Up     Normal  87.75 KiB       100.00%             8888436893293965475                         ',\n",
       " '',\n",
       " '  Warning: \"nodetool ring\" is used to output all the tokens of a node.',\n",
       " '  To view status related info of a node use \"nodetool status\" instead.',\n",
       " '',\n",
       " '',\n",
       " '  ']"
      ]
     },
     "execution_count": 35,
     "metadata": {},
     "output_type": "execute_result"
    }
   ],
   "source": [
    "import subprocess\n",
    "ring = subprocess.check_output(\"docker exec -it p6-db-1 bash | nodetool ring\", shell=True).decode().splitlines()\n",
    "ring"
   ]
  },
  {
   "cell_type": "code",
   "execution_count": 36,
   "id": "3d0e317c-fe17-480a-b5b1-71c0d9368bb5",
   "metadata": {},
   "outputs": [
    {
     "name": "stdout",
     "output_type": "stream",
     "text": [
      "-8976761085217265198\n"
     ]
    }
   ],
   "source": [
    "#q4\n",
    "inside = False\n",
    "for i in range(5, (len(ring)-6)):\n",
    "    curr_token = int(ring[i][80:])\n",
    "    if curr_token > u_token:\n",
    "        inside = True\n",
    "        print(curr_token)\n",
    "        break\n",
    "if not inside:\n",
    "    info = ring[5].split(\"             \")\n",
    "    print(info[1])"
   ]
  },
  {
   "cell_type": "markdown",
   "id": "29079748-6b70-4fb0-8aee-778c53f257a2",
   "metadata": {},
   "source": [
    "# Part 2"
   ]
  },
  {
   "cell_type": "code",
   "execution_count": 37,
   "id": "d7491866-1138-48ac-bc6d-5174f15d8ccd",
   "metadata": {},
   "outputs": [
    {
     "name": "stdout",
     "output_type": "stream",
     "text": [
      "Archive:  records.zip\n"
     ]
    }
   ],
   "source": [
    "! unzip -n records.zip"
   ]
  },
  {
   "cell_type": "code",
   "execution_count": 38,
   "id": "07ed7d2c-3c8d-4c52-a914-38e6ee1c066c",
   "metadata": {},
   "outputs": [
    {
     "name": "stdout",
     "output_type": "stream",
     "text": [
      "total 10496\n",
      "drwxrwxr-x 6 1001 1002     4096 Nov 21 18:19 .\n",
      "drwxr-xr-x 1 root root     4096 Nov 21 18:03 ..\n",
      "drwxr-xr-x 2 root root     4096 Nov 21 16:24 .ipynb_checkpoints\n",
      "drwxr-xr-x 2 root root     4096 Nov 21 01:38 __pycache__\n",
      "-rw-rw-r-- 1 1001 1002 10607756 Nov 19 22:23 ghcnd-stations.txt\n",
      "-rw-r--r-- 1 root root    50333 Nov 21 18:19 p6.ipynb\n",
      "drwxr-xr-x 2 root root     4096 Nov  5 01:54 records.parquet\n",
      "-rw-rw-r-- 1 1001 1002    44610 Nov 19 22:23 records.zip\n",
      "-rw-rw-r-- 1 1001 1002     3380 Nov 21 17:59 server.py\n",
      "drwxr-xr-x 9 root root     4096 Nov 21 16:15 spark-warehouse\n",
      "-rw-rw-r-- 1 1001 1002      510 Nov 19 22:23 station.proto\n",
      "-rw-rw-r-- 1 1001 1002     1917 Nov 20 04:32 station_pb2.py\n",
      "-rw-rw-r-- 1 1001 1002     3884 Nov 20 04:32 station_pb2_grpc.py\n"
     ]
    }
   ],
   "source": [
    "! ls -la"
   ]
  },
  {
   "cell_type": "code",
   "execution_count": 39,
   "id": "1ec2cbf5-0693-4edc-8edc-26ae4b6408d3",
   "metadata": {},
   "outputs": [
    {
     "name": "stderr",
     "output_type": "stream",
     "text": [
      "                                                                                \r"
     ]
    }
   ],
   "source": [
    "rec = spark.read.format(\"parquet\").load(\"records.parquet\")"
   ]
  },
  {
   "cell_type": "code",
   "execution_count": 40,
   "id": "66a44cfa-fd35-4f61-b554-ab881bc59bcf",
   "metadata": {},
   "outputs": [
    {
     "name": "stdout",
     "output_type": "stream",
     "text": [
      "+-----------+--------+-------+------+\n",
      "|    station|    date|element| value|\n",
      "+-----------+--------+-------+------+\n",
      "|USW00014898|20220101|   TMAX| -32.0|\n",
      "|USW00014898|20220102|   TMAX| -77.0|\n",
      "|USW00014898|20220103|   TMAX| -60.0|\n",
      "|USW00014898|20220104|   TMAX|   0.0|\n",
      "|USW00014898|20220105|   TMAX| -16.0|\n",
      "|USW00014898|20220106|   TMAX| -71.0|\n",
      "|USW00014898|20220107|   TMAX| -71.0|\n",
      "|USW00014898|20220108|   TMAX| -32.0|\n",
      "|USW00014898|20220109|   TMAX| -27.0|\n",
      "|USW00014898|20220110|   TMAX|-149.0|\n",
      "|USW00014898|20220111|   TMAX| -16.0|\n",
      "|USW00014898|20220112|   TMAX|   6.0|\n",
      "|USW00014898|20220113|   TMAX|  11.0|\n",
      "|USW00014898|20220114|   TMAX| -77.0|\n",
      "|USW00014898|20220115|   TMAX| -99.0|\n",
      "|USW00014898|20220116|   TMAX| -60.0|\n",
      "|USW00014898|20220117|   TMAX| -21.0|\n",
      "|USW00014898|20220118|   TMAX|  28.0|\n",
      "|USW00014898|20220119|   TMAX|  28.0|\n",
      "|USW00014898|20220120|   TMAX|-121.0|\n",
      "+-----------+--------+-------+------+\n",
      "only showing top 20 rows\n",
      "\n"
     ]
    },
    {
     "name": "stderr",
     "output_type": "stream",
     "text": [
      "                                                                                \r"
     ]
    }
   ],
   "source": [
    "rec.show()"
   ]
  },
  {
   "cell_type": "code",
   "execution_count": 41,
   "id": "2afdaf3d-2dd3-437f-8abc-1e5b1cce00e9",
   "metadata": {},
   "outputs": [
    {
     "name": "stderr",
     "output_type": "stream",
     "text": [
      "[Stage 7:>                                                          (0 + 2) / 2]\r"
     ]
    },
    {
     "name": "stdout",
     "output_type": "stream",
     "text": [
      "+-----------+--------+------+------+\n",
      "|    station|    date|  TMIN|  TMAX|\n",
      "+-----------+--------+------+------+\n",
      "|USW00014898|20220107|-166.0| -71.0|\n",
      "|USW00014839|20220924| 117.0| 194.0|\n",
      "|USW00014839|20220523|  83.0| 150.0|\n",
      "|USW00014839|20221019|  11.0|  83.0|\n",
      "|USW00014839|20220529| 139.0| 261.0|\n",
      "|USR0000WDDG|20221130|-106.0| -39.0|\n",
      "|USR0000WDDG|20220119|-178.0| -56.0|\n",
      "|USW00014837|20220222| -88.0| -38.0|\n",
      "|USR0000WDDG|20220202|-150.0|-106.0|\n",
      "|USW00014839|20220427|   0.0|  39.0|\n",
      "|USW00014839|20220708| 189.0| 222.0|\n",
      "|USW00014839|20220917| 200.0| 294.0|\n",
      "|USW00014837|20220624| 200.0| 322.0|\n",
      "|USW00014898|20220129|-116.0| -60.0|\n",
      "|USW00014839|20220715| 156.0| 233.0|\n",
      "|USR0000WDDG|20220224|-128.0| -61.0|\n",
      "|USR0000WDDG|20220130|-117.0| -33.0|\n",
      "|USR0000WDDG|20220414| -17.0|  50.0|\n",
      "|USW00014898|20220728| 156.0| 256.0|\n",
      "|USW00014837|20220906| 117.0| 256.0|\n",
      "+-----------+--------+------+------+\n",
      "only showing top 20 rows\n",
      "\n"
     ]
    },
    {
     "name": "stderr",
     "output_type": "stream",
     "text": [
      "                                                                                \r"
     ]
    }
   ],
   "source": [
    "rec.groupBy(\"station\", \"date\").pivot(\"element\", [\"TMIN\", \"TMAX\"]).sum(\"value\").show()"
   ]
  },
  {
   "cell_type": "code",
   "execution_count": 42,
   "id": "2dee9ff2-b0bb-4fe6-b2b3-aed54fe4de94",
   "metadata": {},
   "outputs": [
    {
     "name": "stderr",
     "output_type": "stream",
     "text": [
      "                                                                                \r"
     ]
    },
    {
     "data": {
      "text/html": [
       "<div>\n",
       "<style scoped>\n",
       "    .dataframe tbody tr th:only-of-type {\n",
       "        vertical-align: middle;\n",
       "    }\n",
       "\n",
       "    .dataframe tbody tr th {\n",
       "        vertical-align: top;\n",
       "    }\n",
       "\n",
       "    .dataframe thead th {\n",
       "        text-align: right;\n",
       "    }\n",
       "</style>\n",
       "<table border=\"1\" class=\"dataframe\">\n",
       "  <thead>\n",
       "    <tr style=\"text-align: right;\">\n",
       "      <th></th>\n",
       "      <th>station</th>\n",
       "      <th>date</th>\n",
       "      <th>TMIN</th>\n",
       "      <th>TMAX</th>\n",
       "    </tr>\n",
       "  </thead>\n",
       "  <tbody>\n",
       "    <tr>\n",
       "      <th>0</th>\n",
       "      <td>USW00014898</td>\n",
       "      <td>20220107</td>\n",
       "      <td>-166.0</td>\n",
       "      <td>-71.0</td>\n",
       "    </tr>\n",
       "    <tr>\n",
       "      <th>1</th>\n",
       "      <td>USW00014839</td>\n",
       "      <td>20220924</td>\n",
       "      <td>117.0</td>\n",
       "      <td>194.0</td>\n",
       "    </tr>\n",
       "    <tr>\n",
       "      <th>2</th>\n",
       "      <td>USW00014839</td>\n",
       "      <td>20220523</td>\n",
       "      <td>83.0</td>\n",
       "      <td>150.0</td>\n",
       "    </tr>\n",
       "    <tr>\n",
       "      <th>3</th>\n",
       "      <td>USW00014839</td>\n",
       "      <td>20221019</td>\n",
       "      <td>11.0</td>\n",
       "      <td>83.0</td>\n",
       "    </tr>\n",
       "    <tr>\n",
       "      <th>4</th>\n",
       "      <td>USW00014839</td>\n",
       "      <td>20220529</td>\n",
       "      <td>139.0</td>\n",
       "      <td>261.0</td>\n",
       "    </tr>\n",
       "    <tr>\n",
       "      <th>...</th>\n",
       "      <td>...</td>\n",
       "      <td>...</td>\n",
       "      <td>...</td>\n",
       "      <td>...</td>\n",
       "    </tr>\n",
       "    <tr>\n",
       "      <th>1455</th>\n",
       "      <td>USW00014898</td>\n",
       "      <td>20220724</td>\n",
       "      <td>167.0</td>\n",
       "      <td>278.0</td>\n",
       "    </tr>\n",
       "    <tr>\n",
       "      <th>1456</th>\n",
       "      <td>USW00014837</td>\n",
       "      <td>20221004</td>\n",
       "      <td>50.0</td>\n",
       "      <td>222.0</td>\n",
       "    </tr>\n",
       "    <tr>\n",
       "      <th>1457</th>\n",
       "      <td>USW00014837</td>\n",
       "      <td>20221107</td>\n",
       "      <td>17.0</td>\n",
       "      <td>94.0</td>\n",
       "    </tr>\n",
       "    <tr>\n",
       "      <th>1458</th>\n",
       "      <td>USW00014898</td>\n",
       "      <td>20221006</td>\n",
       "      <td>56.0</td>\n",
       "      <td>200.0</td>\n",
       "    </tr>\n",
       "    <tr>\n",
       "      <th>1459</th>\n",
       "      <td>USR0000WDDG</td>\n",
       "      <td>20221021</td>\n",
       "      <td>72.0</td>\n",
       "      <td>239.0</td>\n",
       "    </tr>\n",
       "  </tbody>\n",
       "</table>\n",
       "<p>1460 rows × 4 columns</p>\n",
       "</div>"
      ],
      "text/plain": [
       "          station      date   TMIN   TMAX\n",
       "0     USW00014898  20220107 -166.0  -71.0\n",
       "1     USW00014839  20220924  117.0  194.0\n",
       "2     USW00014839  20220523   83.0  150.0\n",
       "3     USW00014839  20221019   11.0   83.0\n",
       "4     USW00014839  20220529  139.0  261.0\n",
       "...           ...       ...    ...    ...\n",
       "1455  USW00014898  20220724  167.0  278.0\n",
       "1456  USW00014837  20221004   50.0  222.0\n",
       "1457  USW00014837  20221107   17.0   94.0\n",
       "1458  USW00014898  20221006   56.0  200.0\n",
       "1459  USR0000WDDG  20221021   72.0  239.0\n",
       "\n",
       "[1460 rows x 4 columns]"
      ]
     },
     "execution_count": 42,
     "metadata": {},
     "output_type": "execute_result"
    }
   ],
   "source": [
    "minmax = rec.groupBy(\"station\", \"date\").pivot(\"element\", [\"TMIN\", \"TMAX\"]).sum(\"value\").toPandas()\n",
    "minmax"
   ]
  },
  {
   "cell_type": "code",
   "execution_count": 43,
   "id": "7d5a9400-0b0a-4b5d-940d-a082124359ea",
   "metadata": {},
   "outputs": [],
   "source": [
    "import grpc\n",
    "import station_pb2, station_pb2_grpc\n",
    "from concurrent import futures\n",
    "\n",
    "channel = grpc.insecure_channel(\"localhost:5440\")\n",
    "stub = station_pb2_grpc.StationStub(channel)"
   ]
  },
  {
   "cell_type": "code",
   "execution_count": 44,
   "id": "739e4895-9219-4d97-a2bc-d7864afa7a93",
   "metadata": {},
   "outputs": [],
   "source": [
    "for i in range(len(minmax['station'])):\n",
    "    curr_station = minmax['station'][i]\n",
    "    curr_date_raw = minmax['date'][i]\n",
    "    curr_date = curr_date_raw[0:4] + \"-\" + curr_date_raw[4:6] + \"-\" + curr_date_raw[6:]\n",
    "    curr_tmin = minmax['TMIN'][i]\n",
    "    curr_tmax = minmax['TMAX'][i]\n",
    "\n",
    "    rt_err = stub.RecordTemps(station_pb2.RecordTempsRequest(station = curr_station, date = curr_date, tmin = int(curr_tmin), tmax = int(curr_tmax)))"
   ]
  },
  {
   "cell_type": "code",
   "execution_count": 45,
   "id": "6974cd43-c872-4d58-a267-54840202ce65",
   "metadata": {},
   "outputs": [
    {
     "data": {
      "text/html": [
       "<div>\n",
       "<style scoped>\n",
       "    .dataframe tbody tr th:only-of-type {\n",
       "        vertical-align: middle;\n",
       "    }\n",
       "\n",
       "    .dataframe tbody tr th {\n",
       "        vertical-align: top;\n",
       "    }\n",
       "\n",
       "    .dataframe thead th {\n",
       "        text-align: right;\n",
       "    }\n",
       "</style>\n",
       "<table border=\"1\" class=\"dataframe\">\n",
       "  <thead>\n",
       "    <tr style=\"text-align: right;\">\n",
       "      <th></th>\n",
       "      <th>id</th>\n",
       "      <th>date</th>\n",
       "      <th>name</th>\n",
       "      <th>record</th>\n",
       "    </tr>\n",
       "  </thead>\n",
       "  <tbody>\n",
       "    <tr>\n",
       "      <th>0</th>\n",
       "      <td>USW00014837</td>\n",
       "      <td>2022-01-01</td>\n",
       "      <td>MADISON DANE CO RGNL AP</td>\n",
       "      <td>(-99, -32)</td>\n",
       "    </tr>\n",
       "    <tr>\n",
       "      <th>1</th>\n",
       "      <td>USW00014837</td>\n",
       "      <td>2022-01-02</td>\n",
       "      <td>MADISON DANE CO RGNL AP</td>\n",
       "      <td>(-166, -82)</td>\n",
       "    </tr>\n",
       "    <tr>\n",
       "      <th>2</th>\n",
       "      <td>USW00014837</td>\n",
       "      <td>2022-01-03</td>\n",
       "      <td>MADISON DANE CO RGNL AP</td>\n",
       "      <td>(-177, -66)</td>\n",
       "    </tr>\n",
       "    <tr>\n",
       "      <th>3</th>\n",
       "      <td>USW00014837</td>\n",
       "      <td>2022-01-04</td>\n",
       "      <td>MADISON DANE CO RGNL AP</td>\n",
       "      <td>(-88, -5)</td>\n",
       "    </tr>\n",
       "    <tr>\n",
       "      <th>4</th>\n",
       "      <td>USW00014837</td>\n",
       "      <td>2022-01-05</td>\n",
       "      <td>MADISON DANE CO RGNL AP</td>\n",
       "      <td>(-116, -5)</td>\n",
       "    </tr>\n",
       "    <tr>\n",
       "      <th>...</th>\n",
       "      <td>...</td>\n",
       "      <td>...</td>\n",
       "      <td>...</td>\n",
       "      <td>...</td>\n",
       "    </tr>\n",
       "    <tr>\n",
       "      <th>360</th>\n",
       "      <td>USW00014837</td>\n",
       "      <td>2022-12-27</td>\n",
       "      <td>MADISON DANE CO RGNL AP</td>\n",
       "      <td>(-167, -50)</td>\n",
       "    </tr>\n",
       "    <tr>\n",
       "      <th>361</th>\n",
       "      <td>USW00014837</td>\n",
       "      <td>2022-12-28</td>\n",
       "      <td>MADISON DANE CO RGNL AP</td>\n",
       "      <td>(-50, 50)</td>\n",
       "    </tr>\n",
       "    <tr>\n",
       "      <th>362</th>\n",
       "      <td>USW00014837</td>\n",
       "      <td>2022-12-29</td>\n",
       "      <td>MADISON DANE CO RGNL AP</td>\n",
       "      <td>(44, 128)</td>\n",
       "    </tr>\n",
       "    <tr>\n",
       "      <th>363</th>\n",
       "      <td>USW00014837</td>\n",
       "      <td>2022-12-30</td>\n",
       "      <td>MADISON DANE CO RGNL AP</td>\n",
       "      <td>(-67, 117)</td>\n",
       "    </tr>\n",
       "    <tr>\n",
       "      <th>364</th>\n",
       "      <td>USW00014837</td>\n",
       "      <td>2022-12-31</td>\n",
       "      <td>MADISON DANE CO RGNL AP</td>\n",
       "      <td>(-72, 11)</td>\n",
       "    </tr>\n",
       "  </tbody>\n",
       "</table>\n",
       "<p>365 rows × 4 columns</p>\n",
       "</div>"
      ],
      "text/plain": [
       "              id        date                            name       record\n",
       "0    USW00014837  2022-01-01  MADISON DANE CO RGNL AP          (-99, -32)\n",
       "1    USW00014837  2022-01-02  MADISON DANE CO RGNL AP         (-166, -82)\n",
       "2    USW00014837  2022-01-03  MADISON DANE CO RGNL AP         (-177, -66)\n",
       "3    USW00014837  2022-01-04  MADISON DANE CO RGNL AP           (-88, -5)\n",
       "4    USW00014837  2022-01-05  MADISON DANE CO RGNL AP          (-116, -5)\n",
       "..           ...         ...                             ...          ...\n",
       "360  USW00014837  2022-12-27  MADISON DANE CO RGNL AP         (-167, -50)\n",
       "361  USW00014837  2022-12-28  MADISON DANE CO RGNL AP           (-50, 50)\n",
       "362  USW00014837  2022-12-29  MADISON DANE CO RGNL AP           (44, 128)\n",
       "363  USW00014837  2022-12-30  MADISON DANE CO RGNL AP          (-67, 117)\n",
       "364  USW00014837  2022-12-31  MADISON DANE CO RGNL AP           (-72, 11)\n",
       "\n",
       "[365 rows x 4 columns]"
      ]
     },
     "execution_count": 45,
     "metadata": {},
     "output_type": "execute_result"
    }
   ],
   "source": [
    "pd.DataFrame(cass.execute(\"select * from stations where id = 'USW00014837'\"))"
   ]
  },
  {
   "cell_type": "code",
   "execution_count": 46,
   "id": "0b957e68-acfd-4ad6-82b3-587261233212",
   "metadata": {},
   "outputs": [
    {
     "data": {
      "text/plain": [
       "356"
      ]
     },
     "execution_count": 46,
     "metadata": {},
     "output_type": "execute_result"
    }
   ],
   "source": [
    "int(pd.DataFrame(cass.execute(\"select record.tmax from stations where id = 'USW00014837'\"))['record_tmax'].max())"
   ]
  },
  {
   "cell_type": "code",
   "execution_count": 47,
   "id": "8f917e96-6f7f-481d-9524-f7f1fc8b9ce4",
   "metadata": {},
   "outputs": [
    {
     "name": "stdout",
     "output_type": "stream",
     "text": [
      "356\n"
     ]
    }
   ],
   "source": [
    "#q5\n",
    "resp = stub.StationMax(station_pb2.StationMaxRequest(station = \"USW00014837\"))\n",
    "print(resp.tmax)\n",
    "# print(resp.error)"
   ]
  },
  {
   "cell_type": "code",
   "execution_count": null,
   "id": "a4725a65-99b8-4439-abdc-64cc9da4423f",
   "metadata": {},
   "outputs": [],
   "source": []
  },
  {
   "cell_type": "markdown",
   "id": "1580211d-3bec-435e-9ae3-3e4b2e2f7d3e",
   "metadata": {},
   "source": [
    "# Part 3"
   ]
  },
  {
   "cell_type": "code",
   "execution_count": 48,
   "id": "17c511eb-ea0d-424a-abad-90c5c9e6b10a",
   "metadata": {},
   "outputs": [],
   "source": [
    "(spark.read.format(\"org.apache.spark.sql.cassandra\")\n",
    ".option(\"spark.cassandra.connection.host\", \"p6-db-1,p6-db-2,p6-db-3\")\n",
    ".option(\"keyspace\", \"weather\")\n",
    ".option(\"table\", \"stations\")\n",
    ".load().createOrReplaceTempView(\"stations\"))"
   ]
  },
  {
   "cell_type": "code",
   "execution_count": 49,
   "id": "0409fd8f-ec18-49cc-86ee-e26a06ffbd4f",
   "metadata": {},
   "outputs": [
    {
     "data": {
      "text/plain": [
       "[Table(name='stations', catalog=None, namespace=[], description=None, tableType='TEMPORARY', isTemporary=True)]"
      ]
     },
     "execution_count": 49,
     "metadata": {},
     "output_type": "execute_result"
    }
   ],
   "source": [
    "#q6\n",
    "spark.catalog.listTables()"
   ]
  },
  {
   "cell_type": "code",
   "execution_count": 50,
   "id": "66d28c4e-9c64-46ec-9d6c-44b79f7d4885",
   "metadata": {},
   "outputs": [
    {
     "name": "stdout",
     "output_type": "stream",
     "text": [
      "+-----------+--------+------+------+\n",
      "|    station|    date|  TMIN|  TMAX|\n",
      "+-----------+--------+------+------+\n",
      "|USW00014898|20220107|-166.0| -71.0|\n",
      "|USW00014839|20220924| 117.0| 194.0|\n",
      "|USW00014839|20220523|  83.0| 150.0|\n",
      "|USW00014839|20221019|  11.0|  83.0|\n",
      "|USW00014839|20220529| 139.0| 261.0|\n",
      "|USR0000WDDG|20221130|-106.0| -39.0|\n",
      "|USR0000WDDG|20220119|-178.0| -56.0|\n",
      "|USW00014837|20220222| -88.0| -38.0|\n",
      "|USR0000WDDG|20220202|-150.0|-106.0|\n",
      "|USW00014839|20220427|   0.0|  39.0|\n",
      "|USW00014839|20220708| 189.0| 222.0|\n",
      "|USW00014839|20220917| 200.0| 294.0|\n",
      "|USW00014837|20220624| 200.0| 322.0|\n",
      "|USW00014898|20220129|-116.0| -60.0|\n",
      "|USW00014839|20220715| 156.0| 233.0|\n",
      "|USR0000WDDG|20220224|-128.0| -61.0|\n",
      "|USR0000WDDG|20220130|-117.0| -33.0|\n",
      "|USR0000WDDG|20220414| -17.0|  50.0|\n",
      "|USW00014898|20220728| 156.0| 256.0|\n",
      "|USW00014837|20220906| 117.0| 256.0|\n",
      "+-----------+--------+------+------+\n",
      "only showing top 20 rows\n",
      "\n"
     ]
    }
   ],
   "source": [
    "rec.groupBy(\"station\", \"date\").pivot(\"element\", [\"TMIN\", \"TMAX\"]).sum(\"value\").show()"
   ]
  },
  {
   "cell_type": "code",
   "execution_count": 51,
   "id": "0960a9f9-adc9-4122-8202-eea5d0d794c6",
   "metadata": {},
   "outputs": [
    {
     "name": "stdout",
     "output_type": "stream",
     "text": [
      "+-----------+--------+------+------+-----+\n",
      "|    station|    date|  TMIN|  TMAX| diff|\n",
      "+-----------+--------+------+------+-----+\n",
      "|USW00014898|20220107|-166.0| -71.0| 95.0|\n",
      "|USW00014839|20220924| 117.0| 194.0| 77.0|\n",
      "|USW00014839|20220523|  83.0| 150.0| 67.0|\n",
      "|USW00014839|20221019|  11.0|  83.0| 72.0|\n",
      "|USW00014839|20220529| 139.0| 261.0|122.0|\n",
      "|USR0000WDDG|20221130|-106.0| -39.0| 67.0|\n",
      "|USR0000WDDG|20220119|-178.0| -56.0|122.0|\n",
      "|USW00014837|20220222| -88.0| -38.0| 50.0|\n",
      "|USR0000WDDG|20220202|-150.0|-106.0| 44.0|\n",
      "|USW00014839|20220427|   0.0|  39.0| 39.0|\n",
      "|USW00014839|20220708| 189.0| 222.0| 33.0|\n",
      "|USW00014839|20220917| 200.0| 294.0| 94.0|\n",
      "|USW00014837|20220624| 200.0| 322.0|122.0|\n",
      "|USW00014898|20220129|-116.0| -60.0| 56.0|\n",
      "|USW00014839|20220715| 156.0| 233.0| 77.0|\n",
      "|USR0000WDDG|20220224|-128.0| -61.0| 67.0|\n",
      "|USR0000WDDG|20220130|-117.0| -33.0| 84.0|\n",
      "|USR0000WDDG|20220414| -17.0|  50.0| 67.0|\n",
      "|USW00014898|20220728| 156.0| 256.0|100.0|\n",
      "|USW00014837|20220906| 117.0| 256.0|139.0|\n",
      "+-----------+--------+------+------+-----+\n",
      "only showing top 20 rows\n",
      "\n"
     ]
    }
   ],
   "source": [
    "rec2 = rec.groupBy(\"station\", \"date\").pivot(\"element\", [\"TMIN\", \"TMAX\"]).sum(\"value\")\n",
    "rec2 = rec2.withColumn(\"diff\", rec2.TMAX - rec2.TMIN)\n",
    "rec2.show()"
   ]
  },
  {
   "cell_type": "code",
   "execution_count": 52,
   "id": "7cf31e55-13e2-4df1-b4a3-06dbf00d4ae3",
   "metadata": {},
   "outputs": [
    {
     "name": "stdout",
     "output_type": "stream",
     "text": [
      "+-----------+--------+------+-----+-----+\n",
      "|    station|    date|  TMIN| TMAX| diff|\n",
      "+-----------+--------+------+-----+-----+\n",
      "|USW00014839|20220924| 117.0|194.0| 77.0|\n",
      "|USW00014839|20220523|  83.0|150.0| 67.0|\n",
      "|USW00014839|20221019|  11.0| 83.0| 72.0|\n",
      "|USW00014839|20220529| 139.0|261.0|122.0|\n",
      "|USW00014839|20220427|   0.0| 39.0| 39.0|\n",
      "|USW00014839|20220708| 189.0|222.0| 33.0|\n",
      "|USW00014839|20220917| 200.0|294.0| 94.0|\n",
      "|USW00014839|20220715| 156.0|233.0| 77.0|\n",
      "|USW00014839|20221202|   6.0|111.0|105.0|\n",
      "|USW00014839|20221211|  28.0| 56.0| 28.0|\n",
      "|USW00014839|20220420|  44.0|106.0| 62.0|\n",
      "|USW00014839|20220116| -99.0|-21.0| 78.0|\n",
      "|USW00014839|20220422|  56.0| 78.0| 22.0|\n",
      "|USW00014839|20220504|  39.0|106.0| 67.0|\n",
      "|USW00014839|20221228| -39.0| 83.0|122.0|\n",
      "|USW00014839|20220615| 244.0|350.0|106.0|\n",
      "|USW00014839|20221129|  17.0|150.0|133.0|\n",
      "|USW00014839|20221001|  94.0|189.0| 95.0|\n",
      "|USW00014839|20221111|   6.0|178.0|172.0|\n",
      "|USW00014839|20220109|-116.0|  0.0|116.0|\n",
      "+-----------+--------+------+-----+-----+\n",
      "only showing top 20 rows\n",
      "\n"
     ]
    }
   ],
   "source": [
    "station1 = rec2.filter(rec2.station == 'USW00014839')\n",
    "station1.show()"
   ]
  },
  {
   "cell_type": "code",
   "execution_count": 53,
   "id": "d91d43bc-9ddc-4e4e-bc7e-70ce372f5479",
   "metadata": {},
   "outputs": [],
   "source": [
    "from pyspark.sql.functions import avg"
   ]
  },
  {
   "cell_type": "code",
   "execution_count": 54,
   "id": "9eb61329-1ad4-4c2c-8e02-332803c5d0ec",
   "metadata": {},
   "outputs": [
    {
     "data": {
      "text/plain": [
       "89.6986301369863"
      ]
     },
     "execution_count": 54,
     "metadata": {},
     "output_type": "execute_result"
    }
   ],
   "source": [
    "avg1 = station1.select(avg(station1.diff)).toPandas()['avg(diff)'][0]\n",
    "avg1"
   ]
  },
  {
   "cell_type": "code",
   "execution_count": 55,
   "id": "316b1796-7513-44a3-8578-a270074b7eb1",
   "metadata": {},
   "outputs": [
    {
     "data": {
      "text/plain": [
       "102.06849315068493"
      ]
     },
     "execution_count": 55,
     "metadata": {},
     "output_type": "execute_result"
    }
   ],
   "source": [
    "station2 = rec2.filter(rec2.station == 'USR0000WDDG')\n",
    "avg2 = station2.select(avg(station1.diff)).toPandas()['avg(diff)'][0]\n",
    "avg2"
   ]
  },
  {
   "cell_type": "code",
   "execution_count": 56,
   "id": "6cd26509-ccf7-467d-a124-cc9a32dc0691",
   "metadata": {},
   "outputs": [
    {
     "data": {
      "text/plain": [
       "105.62739726027397"
      ]
     },
     "execution_count": 56,
     "metadata": {},
     "output_type": "execute_result"
    }
   ],
   "source": [
    "station3 = rec2.filter(rec2.station == 'USW00014837')\n",
    "avg3 = station3.select(avg(station1.diff)).toPandas()['avg(diff)'][0]\n",
    "avg3"
   ]
  },
  {
   "cell_type": "code",
   "execution_count": 57,
   "id": "910b61a1-6069-43bd-9da7-28391d8248d6",
   "metadata": {},
   "outputs": [
    {
     "data": {
      "text/plain": [
       "102.93698630136986"
      ]
     },
     "execution_count": 57,
     "metadata": {},
     "output_type": "execute_result"
    }
   ],
   "source": [
    "station4 = rec2.filter(rec2.station == 'USW00014898')\n",
    "avg4 = station4.select(avg(station1.diff)).toPandas()['avg(diff)'][0]\n",
    "avg4"
   ]
  },
  {
   "cell_type": "code",
   "execution_count": 58,
   "id": "b4200fc1-99aa-44cf-8e29-43306e1750b8",
   "metadata": {},
   "outputs": [
    {
     "data": {
      "text/plain": [
       "{'USW00014839': 89.6986301369863,\n",
       " 'USR0000WDDG': 102.06849315068493,\n",
       " 'USW00014837': 105.62739726027397,\n",
       " 'USW00014898': 102.93698630136986}"
      ]
     },
     "execution_count": 58,
     "metadata": {},
     "output_type": "execute_result"
    }
   ],
   "source": [
    "#q7\n",
    "dict = {'USW00014839':avg1, 'USR0000WDDG':avg2, 'USW00014837':avg3, 'USW00014898':avg4}\n",
    "dict"
   ]
  },
  {
   "cell_type": "markdown",
   "id": "f8629968-15a2-43bd-8d3c-f2dcad1b917b",
   "metadata": {},
   "source": [
    "# Part 4"
   ]
  },
  {
   "cell_type": "code",
   "execution_count": 62,
   "id": "d063609d-0d25-4c12-b00c-03f042aa4763",
   "metadata": {},
   "outputs": [
    {
     "name": "stderr",
     "output_type": "stream",
     "text": [
      "23/11/21 18:22:25 WARN ChannelPool: [s0|p6-db-2/172.28.0.2:9042]  Error while opening new channel (ConnectionInitException: [s0|connecting...] Protocol initialization request, step 1 (STARTUP {CQL_VERSION=3.0.0, DRIVER_NAME=DataStax Java driver for Apache Cassandra(R), DRIVER_VERSION=4.13.0, CLIENT_ID=a8eabff7-7506-4917-a1be-43c27e53b24f, APPLICATION_NAME=Spark-Cassandra-Connector-local-1700589986518}): failed to send request (java.nio.channels.NotYetConnectedException))\n"
     ]
    },
    {
     "name": "stdout",
     "output_type": "stream",
     "text": [
      "Datacenter: datacenter1\n",
      "=======================\n",
      "Status=Up/Down\n",
      "|/ State=Normal/Leaving/Joining/Moving\n",
      "--  Address     Load       Tokens  Owns (effective)  Host ID                               Rack \n",
      "DN  172.28.0.2  87.75 KiB  16      100.0%            f55dd3a2-f0f3-4843-9ac5-93d0329db7b5  rack1\n",
      "UN  172.28.0.4  87.74 KiB  16      100.0%            d51e0c34-c932-41a1-a27f-36875e4a8357  rack1\n",
      "UN  172.28.0.3  87.73 KiB  16      100.0%            f11b72f5-eee5-4521-adb8-73993b49ac1e  rack1\n",
      "\n"
     ]
    }
   ],
   "source": [
    "#q8\n",
    "! nodetool status"
   ]
  },
  {
   "cell_type": "code",
   "execution_count": 66,
   "id": "bea2889e-f0a3-412b-b582-81ef317a5959",
   "metadata": {},
   "outputs": [
    {
     "data": {
      "text/plain": [
       "'need 3 replicas, but only have 2'"
      ]
     },
     "execution_count": 66,
     "metadata": {},
     "output_type": "execute_result"
    }
   ],
   "source": [
    "#q9\n",
    "resp = stub.StationMax(station_pb2.StationMaxRequest(station = \"USW00014837\"))\n",
    "resp.error"
   ]
  },
  {
   "cell_type": "code",
   "execution_count": 67,
   "id": "afabe582-64cd-46e5-80c0-345e055925ae",
   "metadata": {},
   "outputs": [
    {
     "data": {
      "text/plain": [
       "''"
      ]
     },
     "execution_count": 67,
     "metadata": {},
     "output_type": "execute_result"
    }
   ],
   "source": [
    "#q10\n",
    "rt_err = stub.RecordTemps(station_pb2.RecordTempsRequest(station = \"USW00014837\", date = \"2023-02-02\", tmin = int(0), tmax = int(10)))\n",
    "rt_err.error"
   ]
  },
  {
   "cell_type": "code",
   "execution_count": null,
   "id": "3f03d14f-4afd-41fb-9c2f-236aac704dc9",
   "metadata": {},
   "outputs": [],
   "source": []
  }
 ],
 "metadata": {
  "kernelspec": {
   "display_name": "Python 3 (ipykernel)",
   "language": "python",
   "name": "python3"
  },
  "language_info": {
   "codemirror_mode": {
    "name": "ipython",
    "version": 3
   },
   "file_extension": ".py",
   "mimetype": "text/x-python",
   "name": "python",
   "nbconvert_exporter": "python",
   "pygments_lexer": "ipython3",
   "version": "3.10.12"
  }
 },
 "nbformat": 4,
 "nbformat_minor": 5
}
